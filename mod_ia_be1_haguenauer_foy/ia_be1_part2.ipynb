{
 "cells": [
  {
   "cell_type": "markdown",
   "metadata": {},
   "source": [
    "# AI - BE1 - Part 2 : Neural Network"
   ]
  },
  {
   "cell_type": "markdown",
   "metadata": {},
   "source": [
    "## Packages"
   ]
  },
  {
   "cell_type": "code",
   "execution_count": 1,
   "metadata": {},
   "outputs": [],
   "source": [
    "import numpy as np\n",
    "from scipy.spatial import distance_matrix\n",
    "from sklearn.model_selection import train_test_split\n",
    "from sklearn.metrics import accuracy_score\n",
    "import matplotlib.pyplot as plt"
   ]
  },
  {
   "cell_type": "code",
   "execution_count": 2,
   "metadata": {},
   "outputs": [],
   "source": [
    "np.random.seed(42) # pour que l'exécution soit déterministe"
   ]
  },
  {
   "cell_type": "code",
   "execution_count": 3,
   "metadata": {},
   "outputs": [],
   "source": [
    "path = r\"C:/Users/Tim/Desktop/ECL/3A/Deep learning IA/cifar-10-batches-py/\""
   ]
  },
  {
   "cell_type": "code",
   "execution_count": 4,
   "metadata": {},
   "outputs": [],
   "source": [
    "def viz(X,idx):#visualizing train sample\n",
    "    temp = X[idx].astype(\"int\")\n",
    "\n",
    "    # Since every row represents one example to re-map it to image we have to form three 32,32 matrix,\n",
    "    #representing RGB values\n",
    "\n",
    "    R = temp[0:1024].reshape(32,32)\n",
    "    G = np.reshape(temp[1024:2048],newshape=(32,32))\n",
    "    B = np.reshape(temp[2048:],newshape=(32,32))\n",
    "    temp = np.dstack((R,G,B))   #for stacking all these 32,32 matrices.\n",
    "    plt.imshow(temp)\n",
    "    plt.show()"
   ]
  },
  {
   "cell_type": "code",
   "execution_count": 5,
   "metadata": {},
   "outputs": [],
   "source": [
    "def sample(X, Y, N):\n",
    "    \n",
    "    index = np.random.choice(X.shape[0], N, replace=False)\n",
    "    \n",
    "    return X[index], Y[index]"
   ]
  },
  {
   "cell_type": "code",
   "execution_count": 6,
   "metadata": {},
   "outputs": [],
   "source": [
    "def unpickle(file):\n",
    "    import pickle\n",
    "    with open(file, 'rb') as fo:\n",
    "        dict = pickle.load(fo, encoding='bytes')\n",
    "    return dict"
   ]
  },
  {
   "cell_type": "code",
   "execution_count": 7,
   "metadata": {},
   "outputs": [],
   "source": [
    "def lecture_cifar(directory):\n",
    "    X = np.empty((0,3072))\n",
    "    Y = np.array([])\n",
    "    for i in range(5):\n",
    "        path = directory + \"data_batch_\" +str(i+1)\n",
    "        D = unpickle(path)\n",
    "        X = np.concatenate((X,D[b\"data\"]),axis = 0)\n",
    "        Y = np.concatenate((Y,D[b\"labels\"]),axis= 0)\n",
    "        X.astype('float32')\n",
    "        Y.astype('float32')\n",
    "    return np.array(X),np.array(Y)"
   ]
  },
  {
   "cell_type": "code",
   "execution_count": 8,
   "metadata": {},
   "outputs": [],
   "source": [
    "X,Y= lecture_cifar(path)"
   ]
  },
  {
   "cell_type": "code",
   "execution_count": 9,
   "metadata": {},
   "outputs": [],
   "source": [
    "X,Y = sample(X,Y,2000)"
   ]
  },
  {
   "cell_type": "code",
   "execution_count": 10,
   "metadata": {},
   "outputs": [],
   "source": [
    "def decoupage_donees(X,Y):\n",
    "    Xapp,Xtest,Yapp,Ytest  = train_test_split(X, Y, test_size=0.2,random_state=42)\n",
    "    return Xapp,Yapp,Xtest,Ytest"
   ]
  },
  {
   "cell_type": "code",
   "execution_count": 11,
   "metadata": {},
   "outputs": [],
   "source": [
    "Xapp,Yapp,Xtest,Ytest = decoupage_donees(X,Y)"
   ]
  },
  {
   "cell_type": "code",
   "execution_count": 12,
   "metadata": {},
   "outputs": [
    {
     "data": {
      "image/png": "[encoded data removed]",
      "text/plain": [
       "<Figure size 432x288 with 1 Axes>"
      ]
     },
     "metadata": {
      "needs_background": "light"
     },
     "output_type": "display_data"
    }
   ],
   "source": [
    "viz(Xtest,29)"
   ]
  },
  {
   "cell_type": "code",
   "execution_count": 13,
   "metadata": {},
   "outputs": [],
   "source": [
    "def evaluation_classifieur(Ytest,Ypred):\n",
    "    return accuracy_score(Ytest,Ypred)"
   ]
  },
  {
   "cell_type": "code",
   "execution_count": 14,
   "metadata": {},
   "outputs": [],
   "source": [
    "#############################################\n",
    "# FONCTIONS D'AIDE\n",
    "############################################\n",
    "def sigmoid(x):\n",
    "    return 1/(1+np.exp(-x))\n",
    "\n",
    "def sigmoid_d(x):\n",
    "    return sigmoid(x)*(1-sigmoid(x))\n",
    "\n",
    "def reLu(x):\n",
    "    return max(0,x)\n",
    "\n",
    "def reLu_d(x):\n",
    "    if x>0:\n",
    "        return 1\n",
    "    return 0\n",
    "\n",
    "def softmax(X):\n",
    "    exps = np.exp(X)\n",
    "    return exps / np.sum(exps)"
   ]
  },
  {
   "cell_type": "code",
   "execution_count": 15,
   "metadata": {},
   "outputs": [],
   "source": [
    "#############################################\n",
    "# encoder les labels en one-hot pour matcher la sortie du réseau\n",
    "############################################\n",
    "def one_hot(Y):\n",
    "    res = []\n",
    "    for i,x in enumerate(Y):\n",
    "        res.append(np.array([ int(j==int(x)) for j in range(10) ])) \n",
    "    return res"
   ]
  },
  {
   "cell_type": "code",
   "execution_count": 17,
   "metadata": {},
   "outputs": [],
   "source": [
    "##########################\n",
    "# Classe Réseau de neurones#\n",
    "##########################\n",
    "class reseau:\n",
    "    ##########################\n",
    "    # Génération des données #\n",
    "    ##########################\n",
    "    # N est le nombre de données d'entrée\n",
    "    # D_in est la dimension des données d'entrée\n",
    "    # D_h le nombre de neurones de la couche cachée\n",
    "    # D_out est la dimension de sortie (nombre de neurones de la couche de sortie)\n",
    "    def __init__(self,N,D_in,D_out,D_h):\n",
    "        self.N, self.D_in,  self.D_out,self.D_h = N , D_in , D_out, D_h\n",
    "        # Création d'une matrice d'entrée X et de sortie Y avec des valeurs aléatoires\n",
    "        X = np.random.random((N, D_in))\n",
    "        Y = np.random.random((N, D_out))\n",
    "        # Initialisation aléatoire des poids du réseau\n",
    "       \n",
    "    def build_NN(self): \n",
    "        self.W1 = 2 * np.random.random((self.D_in, self.D_h)) - 1\n",
    "        self.b1 = np.zeros((1,self.D_h))\n",
    "        self.W2 = 2 * np.random.random((self.D_h, self.D_out)) - 1\n",
    "        self.b2 = np.zeros((1,self.D_out))\n",
    "        \n",
    "    def forward(self,X):\n",
    "        ####################################################\n",
    "        # Passe avant : calcul de la sortie prédite Y_pred #\n",
    "        ####################################################\n",
    "        I1 = X.dot(self.W1) + self.b1 # Potentiel d'entrée de la couche cachée\n",
    "        self.O1 = sigmoid(I1) # Sortie de la couche cachée (fonction d'activation de type sigmoïde)\n",
    "        I2 = self.O1.dot(self.W2) + self.b2 # Potentiel d'entrée de la couche de sortie\n",
    "        self.O2 = softmax(I2) # Sortie de la couche de sortie (fonction d'activation de type sigmoïde)\n",
    "        Y_pred = self.O2 # Les valeurs prédites sont les sorties de la couche de sortie\n",
    "        return Y_pred\n",
    "    \n",
    "    def loss(self,Y,Y_pred):\n",
    "        ########################################################\n",
    "        # Calcul et affichage de la fonction perte de type MSE #\n",
    "        ########################################################\n",
    "        return np.mean(np.sum(np.square(Y_pred - Y)))\n",
    "    \n",
    "        \n",
    "    def gradient_descent(self,x,y,iterations,lr=0.001):\n",
    "        for i in range(iterations):\n",
    "            #i = i % len(x)\n",
    "            X = x\n",
    "            Y = y\n",
    "            Y_pred = self.forward(X)\n",
    "            loss = self.loss(Y,Y_pred)\n",
    "            if i%100 ==0:\n",
    "                print(i,loss)\n",
    "            \n",
    "            \n",
    "            ######################################### \n",
    "            # Backward : calcul des differentielles # \n",
    "            #########################################\n",
    "            #print(Y_pred[:,0].shape,Y.shape)\n",
    "            #print(Y_pred[:,0],Y)\n",
    "            #Y = Y.reshape((Y.shape[0], 1))\n",
    "            dO2 = 2.0*(Y_pred-Y) # dL/dO2\n",
    "            dI2 = self.O2*(1.-self.O2)*dO2 # dL/dI2\n",
    "            #print(dO2.shape)\n",
    "            #print(( self.O2*(1-self.O2)).shape)\n",
    "            dW2 = self.O1.T.dot(dI2) # dL/dW2\n",
    "            db2 = np.sum(dI2, axis=0) # dL/db2\n",
    "            dI1 = self.O1*(1.-self.O1)*dI2.dot(self.W2.T) # dL/dI1\n",
    "            \n",
    "            dW1 = X.T.dot(dI1) # dL/dW1\n",
    "            db1 = np.sum(dI1, axis=0) # dL/db1\n",
    "\n",
    "            \n",
    "            self.W1-= lr*dW1\n",
    "            self.W2-= lr*dW2\n",
    "            self.b1-= lr*db1\n",
    "            self.b2-= lr*db2"
   ]
  },
  {
   "cell_type": "code",
   "execution_count": 18,
   "metadata": {},
   "outputs": [],
   "source": [
    "#Construction d'un réseau à une couche cachée, de dimension 3072-->1000-->10\n",
    "#Le vecteur de sortie est un vecteur de probabilités sur les classes\n",
    "R = reseau(1600,3072,10,1000)\n",
    "R.build_NN()\n",
    "Yapp1 = one_hot(Yapp)"
   ]
  },
  {
   "cell_type": "code",
   "execution_count": null,
   "metadata": {},
   "outputs": [],
   "source": [
    "# La descente de gradient ne semble pas converger, peut être qu'il n'est pas assez profo,d, ou qu'il faut mettre en place \n",
    "# une descente par batch pour accelérer la convergence\n",
    "# De plus l'étude est faite sur un échantillon restreint de données et faute de puissance de calcul et d'optimisation\n",
    "# de code, il est impossible de faire tourner ce réseau sur l'entièreté des données dans un temps raisonnable.\n",
    "R.gradient_descent(Xapp,np.array(Yapp1),1000,lr=0.01)"
   ]
  }
 ],
 "metadata": {
  "kernelspec": {
   "display_name": "Python 3",
   "language": "python",
   "name": "python3"
  },
  "language_info": {
   "codemirror_mode": {
    "name": "ipython",
    "version": 3
   },
   "file_extension": ".py",
   "mimetype": "text/x-python",
   "name": "python",
   "nbconvert_exporter": "python",
   "pygments_lexer": "ipython3",
   "version": "3.7.4"
  }
 },
 "nbformat": 4,
 "nbformat_minor": 2
}
