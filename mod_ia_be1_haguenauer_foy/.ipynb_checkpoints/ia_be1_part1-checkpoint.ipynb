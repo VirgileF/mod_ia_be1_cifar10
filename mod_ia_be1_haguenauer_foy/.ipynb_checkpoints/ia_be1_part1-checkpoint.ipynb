{
 "cells": [
  {
   "cell_type": "markdown",
   "metadata": {},
   "source": [
    "# AI - BE1 - Part 1 : K-nearest-neighbours"
   ]
  },
  {
   "cell_type": "markdown",
   "metadata": {},
   "source": [
    "### Import packages"
   ]
  },
  {
   "cell_type": "code",
   "execution_count": 2,
   "metadata": {},
   "outputs": [],
   "source": [
    "import pickle\n",
    "from time import time\n",
    "import numpy as np\n",
    "import pandas as pd\n",
    "import math\n",
    "from sklearn.model_selection import train_test_split\n",
    "from scipy.spatial import distance_matrix\n",
    "from sklearn.metrics import accuracy_score\n",
    "import matplotlib.pyplot as plt\n",
    "from sklearn.model_selection import KFold\n",
    "from skimage.feature import local_binary_pattern, hog"
   ]
  },
  {
   "cell_type": "markdown",
   "metadata": {},
   "source": [
    "### Random seed"
   ]
  },
  {
   "cell_type": "code",
   "execution_count": 3,
   "metadata": {},
   "outputs": [],
   "source": [
    "#==============================#\n",
    "# Please don't change the seed #\n",
    "#==============================#\n",
    "SEED = 42\n",
    "\n",
    "# make the algorithm determinist\n",
    "np.random.seed(SEED) "
   ]
  },
  {
   "cell_type": "markdown",
   "metadata": {},
   "source": [
    "### Helpers"
   ]
  },
  {
   "cell_type": "code",
   "execution_count": 4,
   "metadata": {},
   "outputs": [],
   "source": [
    "def unpickle(file):\n",
    "    '''\n",
    "    Extracts a binary dictionary out of the CIFAR-10 binary batch files.\n",
    "    Inputs:\n",
    "        - file (str): path to the batch file\n",
    "    Outputs:\n",
    "        - dict (dict): dictionary containing the data\n",
    "    '''\n",
    "\n",
    "    with open(file, 'rb') as fo:\n",
    "        dict = pickle.load(fo, encoding='bytes')\n",
    "    \n",
    "    return dict"
   ]
  },
  {
   "cell_type": "markdown",
   "metadata": {},
   "source": [
    "### Read data"
   ]
  },
  {
   "cell_type": "code",
   "execution_count": 5,
   "metadata": {},
   "outputs": [],
   "source": [
    "def lecture_cifar(directory):\n",
    "    '''\n",
    "    Reads the batch files in the given directory.\n",
    "    Inputs:\n",
    "        - directory (str): path to the folder containing the batch files\n",
    "    Outputs:\n",
    "        - X (np.array): array containing the training examples (N*D)\n",
    "        - Y (np.array): array containing the corresponding labels (N*1)\n",
    "    '''\n",
    "    \n",
    "    X = np.empty([1,3072]) # each image is already flattened to a (1,3072) vector\n",
    "    Y = []\n",
    "    \n",
    "    for i in range(5):\n",
    "        \n",
    "        path = directory + 'data_batch_' + str(i+1)\n",
    "        dict = unpickle(path)\n",
    "        \n",
    "        X = np.concatenate((X, dict[b'data']), axis=0)\n",
    "        \n",
    "        Y += (dict[b'labels'])\n",
    "        \n",
    "    return np.delete(X, (0), axis=0).astype(np.float32), np.array(Y)"
   ]
  },
  {
   "cell_type": "markdown",
   "metadata": {},
   "source": [
    "###### TEST FOR GRADING"
   ]
  },
  {
   "cell_type": "code",
   "execution_count": 5,
   "metadata": {},
   "outputs": [
    {
     "name": "stdout",
     "output_type": "stream",
     "text": [
      "(50000, 3072) (50000,)\n"
     ]
    }
   ],
   "source": [
    "# Enter parameters\n",
    "PATH_TO_BATCHES = '/Users/virgilefoy/workspace/mod_ia/be1/cifar-10-batches-py/'\n",
    "\n",
    "# Run\n",
    "X_cifar, Y_cifar = lecture_cifar(PATH_TO_BATCHES)\n",
    "print(X_cifar.shape, Y_cifar.shape)\n"
   ]
  },
  {
   "cell_type": "markdown",
   "metadata": {},
   "source": [
    "### Random sample"
   ]
  },
  {
   "cell_type": "code",
   "execution_count": 6,
   "metadata": {},
   "outputs": [],
   "source": [
    "def sample(X, Y, N, seed=42):\n",
    "    '''\n",
    "    Randomly samples the data so that the distance matrix calculation takes not for ever.\n",
    "    Inputs:\n",
    "        - X (np.array): features array to sample along rows\n",
    "        - Y (np.array): labels array to sample along rows\n",
    "        - N (int): size of the sample (must be less than X/Y length)\n",
    "    Outputs:\n",
    "        - X[index] (np.array): sub-array extracted from X ()\n",
    "        - Y[index] (np.array): sub-array extracted from Y (same index than X)\n",
    "    '''\n",
    "    \n",
    "    assert N <= X.shape[0]\n",
    "    \n",
    "    np.random.seed(seed)\n",
    "    index = np.random.choice(X.shape[0], N, replace=False)\n",
    "    \n",
    "    return X[index], Y[index]\n",
    "\n"
   ]
  },
  {
   "cell_type": "markdown",
   "metadata": {},
   "source": [
    "##### TEST"
   ]
  },
  {
   "cell_type": "code",
   "execution_count": 22,
   "metadata": {},
   "outputs": [
    {
     "name": "stdout",
     "output_type": "stream",
     "text": [
      "(4242, 3072) (4242,)\n"
     ]
    }
   ],
   "source": [
    "# Enter parameters\n",
    "SAMPLE_SIZE = 4242\n",
    "\n",
    "# Run\n",
    "X_sample, Y_sample = sample(X_cifar, Y_cifar, SAMPLE_SIZE)\n",
    "print(X_sample.shape, Y_sample.shape)"
   ]
  },
  {
   "cell_type": "markdown",
   "metadata": {},
   "source": [
    "### Train-test split"
   ]
  },
  {
   "cell_type": "code",
   "execution_count": 7,
   "metadata": {},
   "outputs": [],
   "source": [
    "def decoupage_donnees(X, Y, SEED):\n",
    "    '''\n",
    "    Randomly splits the data b/n train and test\n",
    "    Inputs:\n",
    "        - X (np.array): features array to sample along rows\n",
    "        - Y (np.array): labels array to sample along rows\n",
    "        - SEED (int): to make the split determinist\n",
    "    Outputs:\n",
    "        - X_train (np.array): sub-array extracted from X, correpsonding to training examples\n",
    "        - X_test (np.array): sub-array extracted from X, correpsonding to test examples\n",
    "        - Y_train (np.array): sub-array extracted from Y, correpsonding to training labels\n",
    "        - Y_test (np.array): sub-array extracted from Y, correpsonding to test labels\n",
    "    '''\n",
    "    \n",
    "    X_train, X_test, Y_train, Y_test = train_test_split(X, Y, test_size=0.2, random_state=SEED)\n",
    "    \n",
    "    return X_train, Y_train, X_test, Y_test"
   ]
  },
  {
   "cell_type": "markdown",
   "metadata": {},
   "source": [
    "###### TEST FOR GRADING"
   ]
  },
  {
   "cell_type": "code",
   "execution_count": 24,
   "metadata": {},
   "outputs": [
    {
     "name": "stdout",
     "output_type": "stream",
     "text": [
      "(40000, 3072)\n",
      "(40000,)\n",
      "(10000, 3072)\n",
      "(10000,)\n"
     ]
    }
   ],
   "source": [
    "# Enter parameters\n",
    "#-----------------\n",
    "\n",
    "# Run\n",
    "X_train, Y_train, X_test, Y_test = decoupage_donnees(X_cifar, Y_cifar, SEED)\n",
    "print(X_train.shape)\n",
    "print(Y_train.shape)\n",
    "print(X_test.shape)\n",
    "print(Y_test.shape)\n"
   ]
  },
  {
   "cell_type": "markdown",
   "metadata": {},
   "source": [
    "### Distance matrix"
   ]
  },
  {
   "cell_type": "code",
   "execution_count": 18,
   "metadata": {},
   "outputs": [],
   "source": [
    "def kppv_distances(X_test, X_train):\n",
    "    '''\n",
    "    Creates the distance matrix b/n the test set and the training set \n",
    "    Inputs:\n",
    "        - X_test (np.array): Test set \n",
    "        - X_train (np.array): Training set\n",
    "    Outputs:\n",
    "        - dist (np.array): Distance matrix such as dist[i,j] = d(X_test[i], X_train[j])\n",
    "    '''\n",
    "    \n",
    "    # Full calculation without using built-in functions:\n",
    "    # np.sqrt(np.square(x_test).sum(axis=1).reshape(x_test.shape[0], 1) - 2*x_test.dot(x_train.T) + np.square(x_train.T).sum(axis=0).reshape(1, x_train.shape[0]))\n",
    "    # We'll use built-in functions for complexity reason:\n",
    "    \n",
    "    return distance_matrix(X_test, X_train)"
   ]
  },
  {
   "cell_type": "markdown",
   "metadata": {},
   "source": [
    "##### TEST FOR GRADING"
   ]
  },
  {
   "cell_type": "code",
   "execution_count": 19,
   "metadata": {},
   "outputs": [
    {
     "name": "stdout",
     "output_type": "stream",
     "text": [
      "Built-in function:\n",
      "[[ 2.23606798  5.          9.2736185  10.04987562]\n",
      " [ 1.41421356  5.09901951  8.06225775  8.60232527]\n",
      " [ 7.81024968  8.77496439  4.24264069  2.23606798]]\n",
      "Handmade formula:\n",
      "[[ 2.23606798  5.          9.2736185  10.04987562]\n",
      " [ 1.41421356  5.09901951  8.06225775  8.60232527]\n",
      " [ 7.81024968  8.77496439  4.24264069  2.23606798]]\n"
     ]
    }
   ],
   "source": [
    "x_train = np.array([[3,1,2], [0,0,4], [5,1,9], [4,6,8]])\n",
    "x_test = np.array([[3,0,0], [4,1,1], [6,5,8]])\n",
    "\n",
    "# Built-in function\n",
    "print('Built-in function:')\n",
    "print(distance_matrix(x_test, x_train))\n",
    "\n",
    "# Handmade formula\n",
    "print('Handmade formula:')\n",
    "print(np.sqrt(np.square(x_test).sum(axis=1).reshape(x_test.shape[0], 1) - 2*x_test.dot(x_train.T) + np.square(x_train.T).sum(axis=0).reshape(1, x_train.shape[0])))"
   ]
  },
  {
   "cell_type": "markdown",
   "metadata": {},
   "source": [
    "##### SQUARE COMPLEXITY TEST"
   ]
  },
  {
   "cell_type": "code",
   "execution_count": 26,
   "metadata": {},
   "outputs": [
    {
     "name": "stdout",
     "output_type": "stream",
     "text": [
      "Estimated runtime for the whole CIFAR dataset: 302.3 seconds.\n",
      "Means 1511.5 seconds for a cross-validation using 5 batches\n",
      "======================================\n",
      "Total runtime: 52.1 sec\n"
     ]
    },
    {
     "data": {
      "image/png": "[encoded data removed]",
      "text/plain": [
       "<Figure size 432x288 with 1 Axes>"
      ]
     },
     "metadata": {
      "needs_background": "light"
     },
     "output_type": "display_data"
    }
   ],
   "source": [
    "# Enter parameters\n",
    "SAMPLE_SIZES = [1000, 2000, 3000, 4000, 5000] # Takes around 1 min with SAMPLE_SIZES = [1000, 2000, 3000, 4000, 5000]\n",
    "\n",
    "# Run\n",
    "\n",
    "print('Running...', end=\"\\r\")\n",
    "\n",
    "X_cifar, Y_cifar = lecture_cifar(PATH_TO_BATCHES)\n",
    "runtimes = []\n",
    "for i, sample_size in enumerate(SAMPLE_SIZES):\n",
    "    print('Running step {}/{}...'.format(i+1, len(SAMPLE_SIZES)), end=\"\\r\")\n",
    "    X, Y = sample(X_cifar, Y_cifar, sample_size)\n",
    "    X_train, Y_train, X_test, Y_test = decoupage_donnees(X, Y, SEED)\n",
    "    t0 = time()\n",
    "    dist = kppv_distances(X_test, X_train) \n",
    "    runtimes.append(math.sqrt(time()-t0)) # Print square root to get a straight line\n",
    "plt.plot(SAMPLE_SIZES, runtimes)\n",
    "plt.grid()\n",
    "plt.title('Runtime\\'s square root in function of the dataset\\'s size')\n",
    "plt.xlabel('sample_size')\n",
    "plt.ylabel('sqrt(runtime)')\n",
    "\n",
    "slope_coeff = (math.sqrt(runtimes[-1])-math.sqrt(runtimes[0]))/(SAMPLE_SIZES[-1]-SAMPLE_SIZES[0])\n",
    "fit_pol = lambda n : (slope_coeff * n)**2\n",
    "print('Estimated runtime for the whole CIFAR dataset: {} seconds.'.format(round(fit_pol(50000), 1)))\n",
    "print('Means {} seconds for a cross-validation using 5 batches'.format(round(5*fit_pol(50000), 1)))\n",
    "print('======================================')\n",
    "print('Total runtime: {} sec'.format(round(time()-t0, 1)))"
   ]
  },
  {
   "cell_type": "markdown",
   "metadata": {},
   "source": [
    "### Prediction"
   ]
  },
  {
   "cell_type": "code",
   "execution_count": 9,
   "metadata": {},
   "outputs": [],
   "source": [
    "def kppv_predict(dist, Y_train, K):\n",
    "    '''\n",
    "    Predicts the output for all the test examples. \n",
    "    Inputs:\n",
    "        - dist (np.array): Distance matrix of X_test and X_train\n",
    "        - Y_train (np.array): Training set\n",
    "        - K (int): Number of nearest neighbours among which we'll select the most frequent\n",
    "    Outputs:\n",
    "        - Y_pred (np.array): Prediction for the test set (same nb of rows than X_test)\n",
    "    '''\n",
    "    \n",
    "    Y_pred = []\n",
    "    \n",
    "    for row in dist:\n",
    "        idx = np.argpartition(row, K)[:K]\n",
    "        labels = [Y_train[i] for i in idx]\n",
    "        counts = np.bincount(labels)\n",
    "        selected_label = np.argmax(counts)\n",
    "        Y_pred.append(selected_label)\n",
    "        \n",
    "    return np.array(Y_pred)\n",
    "    \n",
    "    "
   ]
  },
  {
   "cell_type": "markdown",
   "metadata": {},
   "source": [
    "##### TEST FOR GRADING"
   ]
  },
  {
   "cell_type": "code",
   "execution_count": 29,
   "metadata": {},
   "outputs": [
    {
     "name": "stdout",
     "output_type": "stream",
     "text": [
      "(1000, 4000)\n",
      "(1000,)\n"
     ]
    }
   ],
   "source": [
    "# Run\n",
    "print(dist.shape)\n",
    "Y_pred = kppv_predict(dist, Y_train, 20)\n",
    "print(Y_pred.shape)"
   ]
  },
  {
   "cell_type": "markdown",
   "metadata": {},
   "source": [
    "### Model accuracy"
   ]
  },
  {
   "cell_type": "code",
   "execution_count": 10,
   "metadata": {},
   "outputs": [],
   "source": [
    "def evaluation_classifieur(Y_test, Y_pred):\n",
    "    '''\n",
    "    Evaluates the classifier. \n",
    "    Inputs:\n",
    "        - Y_test (np.array): Real labels for the test set\n",
    "        - Y_pred (np.array): Predicted labels for the test set\n",
    "    Outputs:\n",
    "        - accuracy (float): Accuracy score of the prediction.\n",
    "    '''\n",
    "    \n",
    "    return accuracy_score(Y_test, Y_pred)"
   ]
  },
  {
   "cell_type": "code",
   "execution_count": 31,
   "metadata": {},
   "outputs": [
    {
     "data": {
      "text/plain": [
       "0.284"
      ]
     },
     "execution_count": 31,
     "metadata": {},
     "output_type": "execute_result"
    }
   ],
   "source": [
    "# Enter parameters\n",
    "#-----------------\n",
    "\n",
    "# Run\n",
    "evaluation_classifieur(Y_test, Y_pred)"
   ]
  },
  {
   "cell_type": "markdown",
   "metadata": {},
   "source": [
    "### Image vizualisation "
   ]
  },
  {
   "cell_type": "code",
   "execution_count": 11,
   "metadata": {},
   "outputs": [],
   "source": [
    "def viz(X,idx): \n",
    "    '''\n",
    "    Displays an image in the dataset.\n",
    "    Inputs:\n",
    "        - X (np.array): Matrix in which each row is a flattened representation of an image\n",
    "        - idx (int): Index in the matrix corresponding to the expected image\n",
    "    '''\n",
    "    \n",
    "    temp = X[idx].astype(\"int\")\n",
    "\n",
    "    # Since every row represents one example to re-map it to image we have to form three 32,32 matrix,\n",
    "    #representing RGB values\n",
    "\n",
    "    R = temp[0:1024].reshape(32,32)\n",
    "    G = np.reshape(temp[1024:2048],newshape=(32,32))\n",
    "    B = np.reshape(temp[2048:],newshape=(32,32))\n",
    "    temp = np.dstack((R,G,B))   #for stacking all these 32,32 matrices.\n",
    "    plt.imshow(temp)\n",
    "    plt.show()"
   ]
  },
  {
   "cell_type": "code",
   "execution_count": 33,
   "metadata": {},
   "outputs": [
    {
     "data": {
      "image/png": "[encoded data removed]",
      "text/plain": [
       "<Figure size 432x288 with 1 Axes>"
      ]
     },
     "metadata": {
      "needs_background": "light"
     },
     "output_type": "display_data"
    }
   ],
   "source": [
    "viz(X_test, 90) # Supposed to be a man riding a horse"
   ]
  },
  {
   "cell_type": "markdown",
   "metadata": {},
   "source": [
    "### Cross-validation"
   ]
  },
  {
   "cell_type": "code",
   "execution_count": 12,
   "metadata": {},
   "outputs": [],
   "source": [
    "def train_and_eval(X_train, Y_train, X_test, Y_test, K):\n",
    "    '''\n",
    "    Trains the K-NN model and evaluates its accuracy. \n",
    "    Inputs:\n",
    "        - X_train (np.array): Training examples\n",
    "        - Y_train (np.array): Training labels\n",
    "        - X_test (np.array): Test examples\n",
    "        - Y_test (np.array): Test labels (real ones)\n",
    "        - K (int): Number of nearest neighbours to select\n",
    "    Outputs:\n",
    "        - accuracy (float): Accuracy score of the model.\n",
    "    '''\n",
    "    \n",
    "    print('Training set: ' + str(X_train.shape))\n",
    "    print('Test set: ' + str(X_test.shape))\n",
    "    \n",
    "    t = time() \n",
    "    #print(\"Distance matrix calculation... \")\n",
    "    dist = kppv_distances(X_test, X_train)\n",
    "    #print('Took ' + str(round(time()-t, 1)) + ' seconds.')\n",
    "    t = time()\n",
    "    \n",
    "    #print(\"Predicting test labels... \")\n",
    "    Y_pred = kppv_predict(dist, Y_train, K)\n",
    "    #print('Took ' + str(round(time()-t, 1)) + ' seconds.')\n",
    "    \n",
    "    return evaluation_classifieur(Y_test, Y_pred)"
   ]
  },
  {
   "cell_type": "code",
   "execution_count": 13,
   "metadata": {},
   "outputs": [],
   "source": [
    "def cross_validation(X, Y, n_splits, K_values):\n",
    "    '''\n",
    "    Main function that cross-validates the K-NN model for different values of K. \n",
    "    Inputs:\n",
    "        - X (np.array): Training examples\n",
    "        - Y (np.array): Training labels\n",
    "        - n_splits (int): The integer k in the k-fold algorithm\n",
    "        - K_values (list of int): The values K used for the K-NN algorithm\n",
    "    Outputs:\n",
    "        - dict (dictionary): The keys are different values of K (for the K-NN model) and the values \n",
    "        are the averages of the accuracy scores that we get while iterating anlong the batches (k-fold algorithm).\n",
    "    '''\n",
    "    \n",
    "    kf = KFold(n_splits=n_splits, random_state=42, shuffle=False)\n",
    "    dict = {}\n",
    "    \n",
    "    for i, (train_index, test_index) in enumerate(kf.split(X)):\n",
    "        \n",
    "        dict[i] = {}\n",
    "\n",
    "        X_train, X_test = X[train_index], X[test_index]\n",
    "        Y_train, Y_test = Y[train_index], Y[test_index]\n",
    "            \n",
    "        t = time() \n",
    "\n",
    "        dist = kppv_distances(X_test, X_train)\n",
    "        \n",
    "        for K in K_values:\n",
    "        \n",
    "            Y_pred = kppv_predict(dist, Y_train, K)\n",
    "        \n",
    "            acc = evaluation_classifieur(Y_test, Y_pred)\n",
    "            # print('Classifier\\'s accuracy with K={}: {}'.format(K, acc))\n",
    "            \n",
    "            dict[i][K] = acc\n",
    "            \n",
    "    dict2 = {}\n",
    "    \n",
    "    for K in K_values:\n",
    "        \n",
    "        acc = np.mean([dict[i][K] for i in dict.keys()])\n",
    "        \n",
    "        dict2[K] = acc\n",
    "        \n",
    "    return dict2\n",
    "        \n",
    "    \n",
    "    "
   ]
  },
  {
   "cell_type": "markdown",
   "metadata": {},
   "source": [
    "## First try K-nn without pre-operator "
   ]
  },
  {
   "cell_type": "code",
   "execution_count": 20,
   "metadata": {
    "scrolled": false
   },
   "outputs": [
    {
     "name": "stdout",
     "output_type": "stream",
     "text": [
      "Dataset's size: 10000\n",
      "N_splits for cross-validation: 5\n",
      "=======================================\n",
      "Best accuracy: 0.2895\n",
      "Obtained with K = 5\n",
      "=======================================\n",
      "Took 908.8 seconds.\n"
     ]
    },
    {
     "data": {
      "image/png": "[encoded data removed]",
      "text/plain": [
       "<Figure size 432x288 with 1 Axes>"
      ]
     },
     "metadata": {
      "needs_background": "light"
     },
     "output_type": "display_data"
    }
   ],
   "source": [
    "# Enter parameters\n",
    "SIZE_DATASET = 10000 # Takes around 10 sec with 500 images and 15 min for 10000 images.\n",
    "N_SPLITS = 5\n",
    "K_VALUES = [3, 5, 10, 15, 16, 17, 18, 19, 20, 21, 22, 23, 24, 25, 30, 40, 50, 100]\n",
    "print('Dataset\\'s size: {}'.format(SIZE_DATASET))\n",
    "print('N_splits for cross-validation: {}'.format(N_SPLITS))\n",
    "print('=======================================')\n",
    "\n",
    "# Timer\n",
    "t0 = time()\n",
    "\n",
    "# Plot evolution of the classifier's accuracy in function of K\n",
    "X_cifar, Y_cifar = lecture_cifar('/Users/virgilefoy/workspace/mod_ia/be1/cifar-10-batches-py/')\n",
    "X, Y = sample(X_cifar, Y_cifar, SIZE_DATASET)\n",
    "dict = cross_validation(X, Y, N_SPLITS, K_VALUES)\n",
    "acc_values = list(dict.values())\n",
    "plt.plot(K_VALUES, acc_values)\n",
    "plt.grid()\n",
    "plt.title('Accuracy in function of K')\n",
    "plt.xlabel('K')\n",
    "plt.ylabel('Classifier\\'s Accuracy')\n",
    "print('Best accuracy: {}'.format(max(acc_values)))\n",
    "print('Obtained with K = {}'.format(K_VALUES[acc_values.index(max(acc_values))]))\n",
    "print('=======================================')\n",
    "print('Took {} seconds.'.format(round(time()-t0, 1)))"
   ]
  },
  {
   "cell_type": "markdown",
   "metadata": {},
   "source": [
    "### Local Binary Patterns"
   ]
  },
  {
   "cell_type": "code",
   "execution_count": 21,
   "metadata": {},
   "outputs": [],
   "source": [
    "def image_to_lbp(image, P, R, method):\n",
    "    '''\n",
    "    Transforms a flattened image (,3072) into its local binary patterns descriptor.\n",
    "    Inputs:\n",
    "        - image (np.array): Flattened image (size (,3072))\n",
    "        - P (int): Number of points in the neighborhood\n",
    "        - R (int): Radius of the neighbourhood\n",
    "        - method (str): Method used LBP conversion ('default', 'ror', 'uniform', 'var')\n",
    "    Outputs:\n",
    "        - lbp_flat (np.array): local binary patterns descriptor.\n",
    "    '''\n",
    "    \n",
    "    r = image[0:1024].reshape(32,32)\n",
    "    g = np.reshape(image[1024:2048],newshape=(32,32))\n",
    "    b = np.reshape(image[2048:],newshape=(32,32))\n",
    "    \n",
    "    lbp_r = local_binary_pattern(r, P, R, method=method)\n",
    "    lbp_g = local_binary_pattern(g, P, R, method=method)\n",
    "    lbp_b = local_binary_pattern(b, P, R, method=method)\n",
    "    \n",
    "    lbp_r = lbp_r.reshape(1,lbp_r.shape[0]*lbp_r.shape[1])\n",
    "    lbp_g = lbp_g.reshape(1,lbp_g.shape[0]*lbp_g.shape[1])\n",
    "    lbp_b = lbp_b.reshape(1,lbp_b.shape[0]*lbp_b.shape[1])\n",
    "    \n",
    "    lbp_flat = np.concatenate([lbp_r, lbp_g, lbp_b], axis=1)\n",
    "    \n",
    "    return lbp_flat\n"
   ]
  },
  {
   "cell_type": "code",
   "execution_count": 22,
   "metadata": {},
   "outputs": [],
   "source": [
    "def lbp(X, P, R, method='default'):\n",
    "    '''\n",
    "    Transforms all the images in a dataset.\n",
    "    Inputs:\n",
    "        - X (np.array): Dataset of flattened images (full dataset's size (50000,3072))\n",
    "        - P (int): Number of points in the neighborhood\n",
    "        - R (int): Radius of the neighbourhood\n",
    "        - method (str): Method used LBP conversion ('default', 'ror', 'uniform', 'var')\n",
    "    Outputs:\n",
    "        - X (np.array): Dataset of local binary patterns descriptors.\n",
    "    '''\n",
    "    \n",
    "    for i, image in enumerate(X):\n",
    "        \n",
    "        X[i] = image_to_lbp(image, P, R, method=method)\n",
    "        \n",
    "    return X"
   ]
  },
  {
   "cell_type": "markdown",
   "metadata": {},
   "source": [
    "## K-nn with LBP pre-operator \n"
   ]
  },
  {
   "cell_type": "code",
   "execution_count": 26,
   "metadata": {},
   "outputs": [
    {
     "name": "stdout",
     "output_type": "stream",
     "text": [
      "Dataset's size: 1000\n",
      "N_splits for cross-validation: 5\n",
      "=========================== \n",
      "LBP method: default, with radius=2\n",
      "Best accuracy: 0.231\n",
      "Corresponding K value: 24\n",
      "=========================== \n",
      "LBP method: ror, with radius=2\n",
      "Best accuracy: 0.127\n",
      "Corresponding K value: 50\n",
      "=========================== \n",
      "LBP method: uniform, with radius=2\n",
      "Best accuracy: 0.132\n",
      "Corresponding K value: 100\n",
      "=========================== \n",
      "LBP method: var, with radius=2\n",
      "Best accuracy: 0.14400000000000002\n",
      "Corresponding K value: 18\n",
      "=========================== \n",
      "LBP method: default, with radius=3\n",
      "Best accuracy: 0.123\n",
      "Corresponding K value: 15\n",
      "=========================== \n",
      "LBP method: ror, with radius=3\n",
      "Best accuracy: 0.11299999999999999\n",
      "Corresponding K value: 100\n",
      "=========================== \n",
      "LBP method: uniform, with radius=3\n",
      "Best accuracy: 0.11500000000000002\n",
      "Corresponding K value: 50\n",
      "=========================== \n",
      "LBP method: var, with radius=3\n",
      "Best accuracy: 0.10300000000000001\n",
      "Corresponding K value: 100\n",
      "=========================== \n",
      "LBP method: default, with radius=4\n",
      "Best accuracy: 0.10600000000000001\n",
      "Corresponding K value: 100\n",
      "=========================== \n",
      "LBP method: ror, with radius=4\n",
      "Best accuracy: 0.127\n",
      "Corresponding K value: 19\n",
      "=========================== \n",
      "LBP method: uniform, with radius=4\n",
      "Best accuracy: 0.136\n",
      "Corresponding K value: 30\n",
      "=========================== \n",
      "LBP method: var, with radius=4\n",
      "Best accuracy: 0.126\n",
      "Corresponding K value: 25\n",
      "=========================== \n",
      "LBP method: default, with radius=5\n",
      "Best accuracy: 0.11299999999999999\n",
      "Corresponding K value: 3\n",
      "=========================== \n",
      "LBP method: ror, with radius=5\n",
      "Best accuracy: 0.10800000000000001\n",
      "Corresponding K value: 50\n",
      "=========================== \n",
      "LBP method: uniform, with radius=5\n",
      "Best accuracy: 0.11699999999999999\n",
      "Corresponding K value: 40\n",
      "=========================== \n",
      "LBP method: var, with radius=5\n",
      "Best accuracy: 0.11200000000000002\n",
      "Corresponding K value: 3\n",
      "======================================\n",
      "======================================\n",
      "Overall best accuracy: 0.231\n",
      "Obtained with method: default\n",
      "And radius: 2\n",
      "And K value: 24\n",
      "======================================\n",
      "Total runtime: 187.7 sec\n"
     ]
    },
    {
     "data": {
      "image/png": "[encoded data removed]",
      "text/plain": [
       "<Figure size 432x288 with 1 Axes>"
      ]
     },
     "metadata": {
      "needs_background": "light"
     },
     "output_type": "display_data"
    }
   ],
   "source": [
    "# Enter parameters\n",
    "SIZE_DATASET = 1000 # takes around 12 min for 1000 images and 1 min with 500 images \n",
    "N_SPLITS = 5\n",
    "K_VALUES = [3, 5, 10, 15, 16, 17, 18, 19, 20, 21, 22, 23, 24, 25, 30, 40, 50, 100]\n",
    "R_VALUES = [2, 3, 4, 5]\n",
    "print('Dataset\\'s size: {}'.format(SIZE_DATASET))\n",
    "print('N_splits for cross-validation: {}'.format(N_SPLITS))\n",
    "\n",
    "# Run\n",
    "print('Running...', end=\"\\r\")\n",
    "\n",
    "# Timer\n",
    "t0 = time()\n",
    "\n",
    "# Plot evolution of the classifier's accuracy in function of K\n",
    "X_cifar, Y_cifar = lecture_cifar('/Users/virgilefoy/workspace/mod_ia/be1/cifar-10-batches-py/')\n",
    "X, Y = sample(X_cifar, Y_cifar, SIZE_DATASET)\n",
    "plt.clf()\n",
    "best_acc = 0\n",
    "i = 0\n",
    "for R in R_VALUES:\n",
    "    for method in ['default', 'ror', 'uniform', 'var']:\n",
    "        print('=========================== \\n Running step {}/{}...'.format(i+1, len(R_VALUES)*4), end=\"\\r\")\n",
    "        P = 8*R\n",
    "        X = lbp(X, P, R, method)\n",
    "        dict = cross_validation(X, Y, N_SPLITS, K_VALUES)\n",
    "        acc_values = list(dict.values())\n",
    "        print(\"LBP method: {}, with radius={}\".format(method, R))\n",
    "        plt.plot(K_VALUES, acc_values, label='method={}, radius={}'.format(method, R))\n",
    "        print('Best accuracy: {}'.format(max(acc_values)))\n",
    "        print('Corresponding K value: {}'.format(K_VALUES[acc_values.index(max(acc_values))]))\n",
    "        i += 1\n",
    "        \n",
    "        if max(acc_values) > best_acc:\n",
    "            best_K = K_VALUES[acc_values.index(max(acc_values))]\n",
    "            best_acc = max(acc_values)\n",
    "            best_R = R\n",
    "            best_method = method\n",
    "            \n",
    "plt.legend(loc='upper center', bbox_to_anchor=(1.45, 0.8), shadow=True, ncol=1)\n",
    "plt.grid()\n",
    "plt.title('Accuracy in function of K')\n",
    "plt.xlabel('K')\n",
    "plt.ylabel('Classifier\\'s accuracy')\n",
    "\n",
    "print('======================================')\n",
    "print('======================================')\n",
    "print('Overall best accuracy: {}'.format(best_acc))\n",
    "print('Obtained with method: {}'.format(best_method))\n",
    "print('And radius: {}'.format(best_R))\n",
    "print('And K value: {}'.format(best_K))\n",
    "\n",
    "print('======================================')\n",
    "print('Total runtime: {} sec'.format(round(time()-t0, 1)))"
   ]
  },
  {
   "cell_type": "markdown",
   "metadata": {},
   "source": [
    "## K-nn on the full dataset (without pre-operator)"
   ]
  },
  {
   "cell_type": "code",
   "execution_count": 16,
   "metadata": {},
   "outputs": [
    {
     "name": "stdout",
     "output_type": "stream",
     "text": [
      "Dataset's size: 50000\n",
      "N_splits for cross-validation: 5\n",
      "=======================================\n",
      "Best accuracy: 0.33196000000000003\n",
      "Obtained with K = 5\n",
      "=======================================\n",
      "Took 48220.7 seconds.\n"
     ]
    },
    {
     "data": {
      "image/png": "[encoded data removed]",
      "text/plain": [
       "<Figure size 432x288 with 1 Axes>"
      ]
     },
     "metadata": {
      "needs_background": "light"
     },
     "output_type": "display_data"
    }
   ],
   "source": [
    "#=========================#\n",
    "#=== PLEASE DO NOT RUN ===#\n",
    "#=========================#\n",
    "\n",
    "# We don't use LBP because it doesn't give a better accuracy.\n",
    "\n",
    "# Enter parameters\n",
    "SIZE_DATASET = 50000 # Takes around 14 hours with 50000 images (macbook CPU)\n",
    "# Let's keep 10000 images in case we want to validate the model\n",
    "N_SPLITS = 5\n",
    "K_VALUES = [3, 5, 10, 15, 16, 17, 18, 19, 20, 21, 22, 23, 24, 25, 30, 40, 50, 100]\n",
    "print('Dataset\\'s size: {}'.format(SIZE_DATASET))\n",
    "print('N_splits for cross-validation: {}'.format(N_SPLITS))\n",
    "print('=======================================')\n",
    "\n",
    "# Timer\n",
    "t0 = time()\n",
    "\n",
    "# Plot evolution of the classifier's accuracy in function of K\n",
    "X_cifar, Y_cifar = lecture_cifar('/Users/virgilefoy/workspace/mod_ia/be1/cifar-10-batches-py/')\n",
    "X, Y = sample(X_cifar, Y_cifar, SIZE_DATASET)\n",
    "dict = cross_validation(X, Y, N_SPLITS, K_VALUES)\n",
    "acc_values = list(dict.values())\n",
    "plt.plot(K_VALUES, acc_values)\n",
    "plt.grid()\n",
    "plt.title('Accuracy in function of K')\n",
    "plt.xlabel('K')\n",
    "plt.ylabel('Classifier\\'s Accuracy')\n",
    "print('Best accuracy: {}'.format(max(acc_values)))\n",
    "print('Obtained with K = {}'.format(K_VALUES[acc_values.index(max(acc_values))]))\n",
    "print('=======================================')\n",
    "print('Took {} seconds.'.format(round(time()-t0, 1)))"
   ]
  },
  {
   "cell_type": "code",
   "execution_count": null,
   "metadata": {},
   "outputs": [],
   "source": []
  }
 ],
 "metadata": {
  "kernelspec": {
   "display_name": "Python 3",
   "language": "python",
   "name": "python3"
  },
  "language_info": {
   "codemirror_mode": {
    "name": "ipython",
    "version": 3
   },
   "file_extension": ".py",
   "mimetype": "text/x-python",
   "name": "python",
   "nbconvert_exporter": "python",
   "pygments_lexer": "ipython3",
   "version": "3.7.4"
  }
 },
 "nbformat": 4,
 "nbformat_minor": 2
}
